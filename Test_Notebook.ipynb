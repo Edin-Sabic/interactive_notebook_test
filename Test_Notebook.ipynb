{
 "cells": [
  {
   "cell_type": "markdown",
   "metadata": {},
   "source": [
    "### (Notebook summary here)\n",
    "\n",
    "#### Import packages as well as a toy dataset, and then split the data."
   ]
  },
  {
   "cell_type": "code",
   "execution_count": 12,
   "metadata": {},
   "outputs": [],
   "source": [
    "from sklearn.model_selection import train_test_split\n",
    "from sklearn.datasets import load_wine\n",
    "from sklearn.svm import SVC\n",
    "from sklearn.ensemble import RandomForestClassifier\n",
    "from sklearn.linear_model import LogisticRegression\n",
    "import pandas as pd\n",
    "import numpy as np\n",
    "#import watermark\n",
    "\n",
    "X, y = load_wine(return_X_y = True)\n",
    "\n",
    "X_train, X_test, y_train, y_test = train_test_split(X, y, test_size = .3)"
   ]
  },
  {
   "cell_type": "markdown",
   "metadata": {},
   "source": [
    "#### Call two seperate models and fit the model to the training data. Print the accuracy of the models."
   ]
  },
  {
   "cell_type": "code",
   "execution_count": 13,
   "metadata": {},
   "outputs": [
    {
     "name": "stdout",
     "output_type": "stream",
     "text": [
      "svc score was...  0.5370370370370371  ,rfc score was...  0.9629629629629629\n",
      "Success!\n"
     ]
    }
   ],
   "source": [
    "clf1 = SVC(gamma = 'scale', probability = True)\n",
    "clf1.fit(X_train, y_train)\n",
    "\n",
    "svc_score = clf1.score(X_test, y_test)\n",
    "\n",
    "clf2 = RandomForestClassifier(n_estimators = 100)\n",
    "clf2.fit(X_train, y_train)\n",
    "\n",
    "rfc_score = clf2.score(X_test, y_test)\n",
    "\n",
    "print('svc score was... ', svc_score, ' ,rfc score was... ', rfc_score)\n",
    "\n",
    "print('Success!')"
   ]
  },
  {
   "cell_type": "markdown",
   "metadata": {},
   "source": [
    "#### Print notebook dependencies. Note: This only works on your machine to print dependencies for the requirements.txt file, and will not work within the cloud."
   ]
  },
  {
   "cell_type": "code",
   "execution_count": 16,
   "metadata": {},
   "outputs": [
    {
     "name": "stdout",
     "output_type": "stream",
     "text": [
      "The watermark extension is already loaded. To reload it, use:\n",
      "  %reload_ext watermark\n",
      "CPython 3.7.4\n",
      "IPython 7.8.0\n",
      "\n",
      "sklearn 0.22.2.post1\n",
      "pandas 0.25.1\n",
      "numpy 1.16.5\n",
      "\n",
      "compiler   : MSC v.1915 64 bit (AMD64)\n",
      "system     : Windows\n",
      "release    : 10\n",
      "machine    : AMD64\n",
      "processor  : Intel64 Family 6 Model 158 Stepping 13, GenuineIntel\n",
      "CPU cores  : 12\n",
      "interpreter: 64bit\n",
      " \n",
      "last updated: Sun Jul 12 2020 19:08:10 Mountain Standard Time\n"
     ]
    }
   ],
   "source": [
    "%load_ext watermark\n",
    "\n",
    "%watermark -v -m -p sklearn,pandas,numpy\n",
    "\n",
    "print(\" \")\n",
    "%watermark -u -n -t -z"
   ]
  },
  {
   "cell_type": "code",
   "execution_count": null,
   "metadata": {},
   "outputs": [],
   "source": []
  }
 ],
 "metadata": {
  "kernelspec": {
   "display_name": "Python 3",
   "language": "python",
   "name": "python3"
  },
  "language_info": {
   "codemirror_mode": {
    "name": "ipython",
    "version": 3
   },
   "file_extension": ".py",
   "mimetype": "text/x-python",
   "name": "python",
   "nbconvert_exporter": "python",
   "pygments_lexer": "ipython3",
   "version": "3.7.4"
  }
 },
 "nbformat": 4,
 "nbformat_minor": 2
}
